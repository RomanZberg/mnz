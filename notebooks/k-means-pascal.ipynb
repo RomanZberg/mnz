{
 "cells": [
  {
   "cell_type": "code",
   "id": "initial_id",
   "metadata": {
    "collapsed": true,
    "ExecuteTime": {
     "end_time": "2025-04-30T19:05:07.403280Z",
     "start_time": "2025-04-30T19:05:04.986733Z"
    }
   },
   "source": [
    "from PIL import Image\n",
    "import numpy as np\n",
    "from sklearn.cluster import KMeans\n",
    "from PIL import ImageDraw, ImageFont\n",
    "from skimage.measure import label, regionprops\n",
    "import cv2\n",
    "import os\n",
    "\n",
    "def load_image(image_path):\n",
    "    image = Image.open(image_path).convert('RGB')\n",
    "    return np.array(image)\n",
    "\n",
    "def quantize_colors(image_array, n_colors):\n",
    "    # Apply Gaussian blur to smooth transitions and reduce small color noise\n",
    "    blurred = cv2.GaussianBlur(image_array, (5, 5), 0)\n",
    "\n",
    "    h, w, c = blurred.shape\n",
    "    image_flat = blurred.reshape(-1, 3)\n",
    "    kmeans = KMeans(n_clusters=n_colors, random_state=42).fit(image_flat)\n",
    "    labels = kmeans.labels_\n",
    "    quantized_flat = kmeans.cluster_centers_[labels].astype('uint8')\n",
    "    quantized_image = quantized_flat.reshape(h, w, 3)\n",
    "    return quantized_image, labels.reshape(h, w), kmeans.cluster_centers_\n",
    "\n",
    "def detect_regions_by_color(quantized_image):\n",
    "    h, w, _ = quantized_image.shape\n",
    "    labeled_image = np.zeros((h, w), dtype=int)\n",
    "    current_label = 1\n",
    "\n",
    "    unique_colors = np.unique(quantized_image.reshape(-1, 3), axis=0)\n",
    "    for color in unique_colors:\n",
    "        mask = np.all(quantized_image == color, axis=-1)\n",
    "        labeled_mask = label(mask, connectivity=1)\n",
    "        labeled_mask[labeled_mask > 0] += current_label - 1\n",
    "        labeled_image += labeled_mask\n",
    "        current_label = labeled_image.max() + 1\n",
    "\n",
    "    return labeled_image\n",
    "\n",
    "def filter_small_regions(labeled_image, min_size=100):\n",
    "    new_labeled = np.zeros_like(labeled_image)\n",
    "    current_label = 1\n",
    "    for region in regionprops(labeled_image):\n",
    "        if region.area >= min_size:\n",
    "            coords = region.coords\n",
    "            for y, x in coords:\n",
    "                new_labeled[y, x] = current_label\n",
    "            current_label += 1\n",
    "    return new_labeled\n",
    "\n",
    "def assign_numbers(cluster_centers):\n",
    "    color_to_number = {tuple(center.astype(int)): idx+1 for idx, center in enumerate(cluster_centers)}\n",
    "    return color_to_number\n",
    "\n",
    "def save_legend(color_to_number, output_folder):\n",
    "    legend_path = os.path.join(output_folder, \"legend.txt\")\n",
    "    with open(legend_path, \"w\") as f:\n",
    "        for color, number in color_to_number.items():\n",
    "            f.write(f\"{number}: RGB{color}\\n\")\n",
    "    print(f\"Legend saved to {legend_path}\")\n",
    "\n",
    "def overlay_numbers(image_array, labeled_regions, color_to_number):\n",
    "    image = Image.fromarray(image_array)\n",
    "    draw = ImageDraw.Draw(image)\n",
    "    font = ImageFont.load_default()\n",
    "\n",
    "    for region_label in np.unique(labeled_regions):\n",
    "        if region_label == 0:\n",
    "            continue\n",
    "        mask = labeled_regions == region_label\n",
    "        coords = np.argwhere(mask)\n",
    "        y, x = coords.mean(axis=0).astype(int)\n",
    "        color = tuple(image_array[mask][0])\n",
    "        number = color_to_number.get(color, '?')\n",
    "        draw.text((x, y), str(number), fill='black', font=font)\n",
    "\n",
    "    return image\n",
    "\n",
    "def create_paint_by_numbers(image_path, save_path, n_colors):\n",
    "    output_folder = save_path\n",
    "    os.makedirs(output_folder, exist_ok=True)\n",
    "\n",
    "    image_array = load_image(image_path)\n",
    "    quantized_image, label_image, cluster_centers = quantize_colors(image_array, n_colors)\n",
    "    labeled_regions = detect_regions_by_color(quantized_image)\n",
    "    labeled_regions = filter_small_regions(labeled_regions, min_size=150)  # tweak size\n",
    "    color_to_number = assign_numbers(cluster_centers)\n",
    "    final_image = overlay_numbers(quantized_image, labeled_regions, color_to_number)\n",
    "\n",
    "    # Save image\n",
    "    output_image_path = os.path.join(output_folder, \"paint_by_numbers_output.png\")\n",
    "    final_image.save(output_image_path)\n",
    "    print(f\"Paint-by-numbers image saved to {output_image_path}\")\n",
    "\n",
    "    # Save legend\n",
    "    save_legend(color_to_number, output_folder)\n",
    "\n"
   ],
   "outputs": [],
   "execution_count": 4
  },
  {
   "cell_type": "code",
   "source": [
    "image_path = '../test-images-mnz/castle.jpeg'\n",
    "save_path = '../target'\n",
    "number_colors = 16\n",
    "\n",
    "create_paint_by_numbers(image_path, save_path, number_colors)"
   ],
   "metadata": {
    "collapsed": false,
    "ExecuteTime": {
     "end_time": "2025-04-30T19:05:49.662489Z",
     "start_time": "2025-04-30T19:05:45.299044Z"
    }
   },
   "id": "34f936c8706ff6f6",
   "outputs": [
    {
     "name": "stdout",
     "output_type": "stream",
     "text": [
      "Paint-by-numbers image saved to ../target/paint_by_numbers_output.png\n",
      "Legend saved to ../target/legend.txt\n"
     ]
    }
   ],
   "execution_count": 5
  },
  {
   "cell_type": "code",
   "execution_count": null,
   "outputs": [],
   "source": [],
   "metadata": {
    "collapsed": false
   },
   "id": "8308f47d21e61c43"
  }
 ],
 "metadata": {
  "kernelspec": {
   "display_name": "Python 3",
   "language": "python",
   "name": "python3"
  },
  "language_info": {
   "codemirror_mode": {
    "name": "ipython",
    "version": 2
   },
   "file_extension": ".py",
   "mimetype": "text/x-python",
   "name": "python",
   "nbconvert_exporter": "python",
   "pygments_lexer": "ipython2",
   "version": "2.7.6"
  }
 },
 "nbformat": 4,
 "nbformat_minor": 5
}
