{
 "cells": [
  {
   "cell_type": "code",
   "id": "initial_id",
   "metadata": {
    "collapsed": true,
    "ExecuteTime": {
     "end_time": "2025-04-30T18:58:56.980176Z",
     "start_time": "2025-04-30T18:58:56.859585Z"
    }
   },
   "source": [
    "import random\n",
    "import numpy as np\n",
    "from typing import Tuple\n",
    "\n",
    "# Die Funktion nimmt num:samples Punkte und berechnet anhand vom Abstand zu den Rändern den Punkt, welcher am besten in der MItte ist.\n",
    "\n",
    "def find_field_center(mask: np.ndarray, num_samples: int = 50) -> Tuple[int, int]:\n",
    "    ys, xs = np.where(mask)\n",
    "    if len(xs) == 0:\n",
    "        raise ValueError(\"The provided mask is empty.\")\n",
    "\n",
    "    min_x, max_x = xs.min(), xs.max()\n",
    "    min_y, max_y = ys.min(), ys.max()\n",
    "\n",
    "    best_point: Tuple[int, int] = (min_x, min_y)\n",
    "    best_score: float = -1.0\n",
    "\n",
    "    for _ in range(num_samples): # Es werden num_samples Punkte zufällig ausgewählt. Standardmässig habe ich dies auf 50 gesetzt.\n",
    "        while True:\n",
    "            x = random.randint(min_x, max_x)\n",
    "            y = random.randint(min_y, max_y)\n",
    "            if mask[y, x]:\n",
    "                break\n",
    "\n",
    "        # North\n",
    "        dn = 0\n",
    "        for yy in range(y, min_y - 1, -1):\n",
    "            if not mask[yy, x]:\n",
    "                dn = y - yy\n",
    "                break\n",
    "\n",
    "        # South\n",
    "        ds = 0\n",
    "        for yy in range(y, max_y + 1):\n",
    "            if not mask[yy, x]:\n",
    "                ds = yy - y\n",
    "                break\n",
    "\n",
    "        # West\n",
    "        dw = 0\n",
    "        for xx in range(x, min_x - 1, -1):\n",
    "            if not mask[y, xx]:\n",
    "                dw = x - xx\n",
    "                break\n",
    "\n",
    "        # East\n",
    "        de = 0\n",
    "        for xx in range(x, max_x + 1):\n",
    "            if not mask[y, xx]:\n",
    "                de = xx - x\n",
    "                break\n",
    "\n",
    "        # Durschnittlicher Abstand\n",
    "        score = (dn + ds + dw + de) / 4.0\n",
    "        if score > best_score:\n",
    "            best_score = score\n",
    "            best_point = (x, y)\n",
    "\n",
    "    return best_point\n"
   ],
   "outputs": [],
   "execution_count": 1
  },
  {
   "metadata": {},
   "cell_type": "code",
   "outputs": [],
   "execution_count": null,
   "source": [],
   "id": "334b874a24173a59"
  }
 ],
 "metadata": {
  "kernelspec": {
   "display_name": "Python 3",
   "language": "python",
   "name": "python3"
  },
  "language_info": {
   "codemirror_mode": {
    "name": "ipython",
    "version": 2
   },
   "file_extension": ".py",
   "mimetype": "text/x-python",
   "name": "python",
   "nbconvert_exporter": "python",
   "pygments_lexer": "ipython2",
   "version": "2.7.6"
  }
 },
 "nbformat": 4,
 "nbformat_minor": 5
}
